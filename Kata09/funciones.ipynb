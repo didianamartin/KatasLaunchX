{
 "cells": [
  {
   "cell_type": "markdown",
   "metadata": {},
   "source": [
    "# Ejercicio: uso de funciones de Python"
   ]
  },
  {
   "cell_type": "code",
   "execution_count": 2,
   "metadata": {},
   "outputs": [
    {
     "name": "stdout",
     "output_type": "stream",
     "text": [
      "Reporte:\n",
      "    Promedio Total: 78.33333333333333%\n",
      "    tank1: 80%\n",
      "    tank2: 70%\n",
      "    tank3: 85%\n",
      "    \n"
     ]
    }
   ],
   "source": [
    "# Función para leer 3 tanques de combustible y muestre el promedio\n",
    "# Función sin argumento\n",
    "\n",
    "def lecturaTanques(tank1, tank2,tank3):\n",
    "    promedio = (tank1 + tank2 + tank3)/3\n",
    "    return f\"\"\"Reporte:\n",
    "    Promedio Total: {promedio}%\n",
    "    tank1: {tank1}%\n",
    "    tank2: {tank2}%\n",
    "    tank3: {tank3}%\n",
    "    \"\"\"\n",
    "\n",
    "# Llamamos a la función que genera el reporte print(funcion(tanque1, tanque2, tanque3))\n",
    "\n",
    "print(lecturaTanques(80,70,85))\n",
    "\n",
    "# Función promedio \n",
    "#Función con argumento\n",
    "# Recuerda cuando usar el comando 'value'\n",
    "\n",
    "def promedio(values):\n",
    "    total = sum(values)\n",
    "    tanques = len(values)\n",
    "    return total/tanques\n",
    "\n",
    "# Actualiza la función\n",
    "\n",
    "def lecturaTanques(tank1,tank2,tank3):\n",
    "    promedio = (tank1 + tank2 + tank3)/3\n",
    "    return f\"\"\"Reporte:\n",
    "    Promedio Total: {promedio[tank1, tank2, tank3]}%\n",
    "    tank1: {tank1}%\n",
    "    tank2: {tank2}%\n",
    "    tank3: {tank3}%\n",
    "    \"\"\"\n"
   ]
  },
  {
   "cell_type": "markdown",
   "metadata": {},
   "source": [
    "# Ejercicio 2: argumentos de palabra clave\n"
   ]
  },
  {
   "cell_type": "code",
   "execution_count": 3,
   "metadata": {},
   "outputs": [],
   "source": [
    "# Función con un informe preciso de la misión. Considera hora de prelanzamiento, tiempo de vuelo, destino, tanque externo y tanque interno\n",
    "\n",
    "def informeMision(preHora, vueloHora, destino, tank1, tank2):\n",
    "    return f\"\"\"\n",
    "    destino: {destino}\n",
    "    vueloHora: {preHora+vueloHora}\n",
    "    vuelo total: {tank1+tank2}\n",
    "    \"\"\"\n",
    "# Escribe tu nueva función de reporte considerando lo anterior\n",
    "# Los (*) son APUNTADORES\n",
    "def informeMision(destino):\n",
    "    return f\"\"\"\n",
    "    deatino: {destino}\n",
    "    vueloHora: {sum(minutes)}\n",
    "    \"\"\"\n",
    "\n",
    "# Escribe tu nueva función\n",
    "\n",
    "def informeMision(destino):\n",
    "    return f\"\"\"\n",
    "    deatino: {destino}\n",
    "    vueloHora: {sum(minutes)}\n",
    "    \"\"\"\n",
    "\n"
   ]
  }
 ],
 "metadata": {
  "interpreter": {
   "hash": "3884c4fde4525a441d9193ce18d64729e65646cefc6cf170c995ed416e7759a9"
  },
  "kernelspec": {
   "display_name": "Python 3.10.2 64-bit",
   "language": "python",
   "name": "python3"
  },
  "language_info": {
   "codemirror_mode": {
    "name": "ipython",
    "version": 3
   },
   "file_extension": ".py",
   "mimetype": "text/x-python",
   "name": "python",
   "nbconvert_exporter": "python",
   "pygments_lexer": "ipython3",
   "version": "3.10.2"
  },
  "orig_nbformat": 4
 },
 "nbformat": 4,
 "nbformat_minor": 2
}
